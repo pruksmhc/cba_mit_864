{
 "cells": [
  {
   "cell_type": "markdown",
   "metadata": {
    "deletable": true,
    "editable": true
   },
   "source": [
    "Yada Pruksachatkun"
   ]
  },
  {
   "cell_type": "code",
   "execution_count": 30,
   "metadata": {
    "collapsed": false,
    "deletable": true,
    "editable": true
   },
   "outputs": [
    {
     "ename": "SyntaxError",
     "evalue": "invalid syntax (<ipython-input-30-e99edc528eb4>, line 1)",
     "output_type": "error",
     "traceback": [
      "\u001b[0;36m  File \u001b[0;32m\"<ipython-input-30-e99edc528eb4>\"\u001b[0;36m, line \u001b[0;32m1\u001b[0m\n\u001b[0;31m    pip install matplotlib\u001b[0m\n\u001b[0m              ^\u001b[0m\n\u001b[0;31mSyntaxError\u001b[0m\u001b[0;31m:\u001b[0m invalid syntax\n"
     ]
    }
   ],
   "source": [
    "pip install matplotlib\n"
   ]
  },
  {
   "cell_type": "markdown",
   "metadata": {
    "deletable": true,
    "editable": true
   },
   "source": [
    "# 7.1) \n",
    "What is the second-order approximation error of the Heun method, which averages the slope at the beginning and the end of the interval?"
   ]
  },
  {
   "cell_type": "code",
   "execution_count": null,
   "metadata": {
    "collapsed": true,
    "deletable": true,
    "editable": true
   },
   "outputs": [],
   "source": []
  },
  {
   "cell_type": "markdown",
   "metadata": {
    "deletable": true,
    "editable": true
   },
   "source": [
    "## 7.2)"
   ]
  },
  {
   "cell_type": "markdown",
   "metadata": {
    "deletable": true,
    "editable": true
   },
   "source": [
    "Euler Method"
   ]
  },
  {
   "cell_type": "markdown",
   "metadata": {
    "collapsed": true,
    "deletable": true,
    "editable": true
   },
   "source": [
    "6.2 For a simple harmonic oscillator y ̈+y=0, with initial conditions y(0)=1,y ̇(0)=0,\n",
    "find y(t) from t = 0 to 100π. Use an Euler method and a fixed-step fourth-order Runge–Kutta method. For each method check how the average local error, and the error in the final value and slope, depend on the step size."
   ]
  },
  {
   "cell_type": "markdown",
   "metadata": {
    "deletable": true,
    "editable": true
   },
   "source": [
    "First let us break down the second degree ODE into several first-degree ordinary differential equations. \n",
    "\n",
    "$ u = y' \\\\ \\dot{u} = y'' = -y $\n",
    "\n",
    "For the Euler method, I am going to take a step size of π. Here, given the lambdas for each first degree differential equation, let us write a function to solve 2nd degree equations \n"
   ]
  },
  {
   "cell_type": "code",
   "execution_count": 26,
   "metadata": {
    "collapsed": false,
    "deletable": true,
    "editable": true
   },
   "outputs": [
    {
     "name": "stdout",
     "output_type": "stream",
     "text": [
      "-1\n",
      "-0.9267152463894761\n"
     ]
    }
   ],
   "source": [
    "\n",
    "def euler(t0, x0, u0, f, step_size, target):\n",
    "    \"\"\"Here, list_equations is the differential equations from smallest to largest.\n",
    "    t0 is the first time stamp \n",
    "    x0 is the value at the timestamp t0\n",
    "    y0 is the slope at timestamp t0\n",
    "    y(t_n) = x_n \n",
    "    \"\"\"\n",
    "    curr_t = t0\n",
    "    curr_x = x0\n",
    "    slope = u0\n",
    "    points = []\n",
    "    while curr_t < target:\n",
    "        curr_x = curr_x + (step_size * slope)\n",
    "        slope = slope + (step_size * f(curr_t, curr_x))\n",
    "        curr_t += step_size\n",
    "        points.append(curr_x)\n",
    "    return curr_x\n",
    "\n",
    "# first, u = 1, v = 0\n",
    "def rutta_kunge_helper(u, v, t, h, maximum, f):\n",
    "    while (t < maximum):\n",
    "        k1 = f(t,u)\n",
    "        k2 = f(t+h*0.5,u+k1*0.5*h)\n",
    "        k3 = f(t+h*0.5,u+k2*0.5*h)\n",
    "        k4 = f(t+h,u+k3*h)\n",
    "\n",
    "        v += h * (k1+2*k2+2*k3+k4)/6\n",
    "\n",
    "        # v doesn't explicitly depend on other variables\n",
    "        k1 = k2 = k3 = k4 = v\n",
    "\n",
    "        u += h * (k1+2*k2+2*k3+k4)/6\n",
    "        t += h\n",
    "        \n",
    "    return u\n",
    "\n",
    "\n",
    "\n",
    "\n",
    "print(euler(0, 1, 0, f, 1, n))\n",
    "print(rutta_kunge_helper(1, 0, 0, 0.95, n, f))\n",
    "       \n"
   ]
  },
  {
   "cell_type": "code",
   "execution_count": 14,
   "metadata": {
    "collapsed": false,
    "deletable": true,
    "editable": true
   },
   "outputs": [
    {
     "ename": "TypeError",
     "evalue": "<lambda>() takes 4 positional arguments but 5 were given",
     "output_type": "error",
     "traceback": [
      "\u001b[0;31m---------------------------------------------------------------------------\u001b[0m",
      "\u001b[0;31mTypeError\u001b[0m                                 Traceback (most recent call last)",
      "\u001b[0;32m<ipython-input-14-fad4a526eeef>\u001b[0m in \u001b[0;36m<module>\u001b[0;34m()\u001b[0m\n\u001b[1;32m      1\u001b[0m \u001b[0;32mimport\u001b[0m \u001b[0mmath\u001b[0m\u001b[0;34m\u001b[0m\u001b[0m\n\u001b[0;32m----> 2\u001b[0;31m \u001b[0mprint\u001b[0m\u001b[0;34m(\u001b[0m\u001b[0meuler\u001b[0m\u001b[0;34m(\u001b[0m\u001b[0;36m0\u001b[0m\u001b[0;34m,\u001b[0m \u001b[0;36m0\u001b[0m\u001b[0;34m,\u001b[0m \u001b[0mf\u001b[0m\u001b[0;34m,\u001b[0m \u001b[0mmath\u001b[0m\u001b[0;34m.\u001b[0m\u001b[0mpi\u001b[0m\u001b[0;34m,\u001b[0m \u001b[0;36m2\u001b[0m\u001b[0;34m*\u001b[0m\u001b[0mmath\u001b[0m\u001b[0;34m.\u001b[0m\u001b[0mpi\u001b[0m\u001b[0;34m)\u001b[0m\u001b[0;34m)\u001b[0m\u001b[0;34m\u001b[0m\u001b[0m\n\u001b[0m",
      "\u001b[0;31mTypeError\u001b[0m: <lambda>() takes 4 positional arguments but 5 were given"
     ]
    }
   ],
   "source": [
    "import math\n",
    "print(euler(0, 0, f, math.pi, 2*math.pi))"
   ]
  },
  {
   "cell_type": "code",
   "execution_count": null,
   "metadata": {
    "collapsed": true,
    "deletable": true,
    "editable": true
   },
   "outputs": [],
   "source": []
  }
 ],
 "metadata": {
  "kernelspec": {
   "display_name": "Python 3",
   "language": "python",
   "name": "python3"
  },
  "language_info": {
   "codemirror_mode": {
    "name": "ipython",
    "version": 3
   },
   "file_extension": ".py",
   "mimetype": "text/x-python",
   "name": "python",
   "nbconvert_exporter": "python",
   "pygments_lexer": "ipython3",
   "version": "3.6.0"
  }
 },
 "nbformat": 4,
 "nbformat_minor": 2
}

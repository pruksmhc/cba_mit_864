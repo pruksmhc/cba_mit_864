{
 "cells": [
  {
   "cell_type": "markdown",
   "metadata": {},
   "source": [
    "## FFT Transform Code Snippets"
   ]
  },
  {
   "cell_type": "code",
   "execution_count": 1,
   "metadata": {
    "collapsed": true
   },
   "outputs": [],
   "source": [
    "def DFT_slow(x):\n",
    "\tx = np.asarray(x, dtype=float)\n",
    "\tN = len(x)\n",
    "\tn = np.arange(N) # n is current sample we're consider - 1 to N-1. \n",
    "\tk = n.reshape((N, 1)) # 5000 LENGHT X 1 width - current freq we're looking at 1 - N-1. \n",
    "\tM = np.exp(-2j * np.pi * k * n / N) #  multiply \n",
    "\treturn np.dot(M, x)\n",
    "# O(nlogn) runtme\n",
    "# Outputs the spectrum of frequencies - dissecting what vmakes up various parts of hte sound waves\n",
    "def FFT(x):\n",
    "\tN = len(x)\t\n",
    "\tprint(N)\n",
    "\tif N % 2 > 0: # must be a power of two. \n",
    "\t\traise ValueError(\"hey\")\n",
    "\telif (N <= 32):\n",
    "\t\treturn DFT_slow(x)\n",
    "\telse:\n",
    "\t\todd = x[1::2]\n",
    "\t\teven = x[::2]\n",
    "\t\ttransformed_odd = FFT(odd)\n",
    "\t\ttransformed_even = FFT(even)\n",
    "\t\tn = np.arange(N)\n",
    "\t\tfactor = np.exp(-2j * np.pi * np.arange(N) / N)\n",
    "\t\treturn np.concatenate([transformed_even + factor[:int(N / 2)] * transformed_odd,\n",
    "                               transformed_even + factor[int(N / 2):] * transformed_odd])\n",
    "\t\t\n",
    "\n",
    "def pad_if_needed(x):\n",
    "\tprint(x)\n",
    "\tcheck = np.log2(len(x))\n",
    "\tprint(check.is_integer())\n",
    "\twhile check.is_integer() is False:\n",
    "\t\tx = np.append(x, 0)\n",
    "\t\tcheck = np.log2(len(x))\n",
    "\n",
    "\t\tprint(len(x))\n",
    "\treturn x\n"
   ]
  },
  {
   "cell_type": "code",
   "execution_count": null,
   "metadata": {
    "collapsed": true
   },
   "outputs": [],
   "source": []
  }
 ],
 "metadata": {
  "kernelspec": {
   "display_name": "Python 3",
   "language": "python",
   "name": "python3"
  },
  "language_info": {
   "codemirror_mode": {
    "name": "ipython",
    "version": 3
   },
   "file_extension": ".py",
   "mimetype": "text/x-python",
   "name": "python",
   "nbconvert_exporter": "python",
   "pygments_lexer": "ipython3",
   "version": "3.6.0"
  }
 },
 "nbformat": 4,
 "nbformat_minor": 2
}
